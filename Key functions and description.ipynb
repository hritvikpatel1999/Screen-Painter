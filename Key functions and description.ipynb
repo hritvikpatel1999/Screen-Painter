{
 "cells": [
  {
   "cell_type": "code",
   "execution_count": 1,
   "metadata": {},
   "outputs": [
    {
     "name": "stdout",
     "output_type": "stream",
     "text": [
      "Package imported..!\n"
     ]
    }
   ],
   "source": [
    "#IMPORTING:\n",
    "import cv2\n",
    "print(\"Package imported..!\")\n",
    "import matplotlib.pyplot as plt\n",
    "import numpy as np"
   ]
  },
  {
   "cell_type": "code",
   "execution_count": 2,
   "metadata": {},
   "outputs": [],
   "source": [
    "#Reading Images:\n",
    "\n",
    "image = cv2.imread(\"C:\\Academic\\pic.jpg\") #Reads image from folder.\n",
    "cv2.imshow(\"test\", image) #Window name = test\n",
    "cv2.waitKey(0) \n",
    "cv2.destroyAllWindows() #Destroys the window on pressing exit."
   ]
  },
  {
   "cell_type": "markdown",
   "metadata": {},
   "source": [
    "READING VIDEOS FROM THE WEBCAM:"
   ]
  },
  {
   "cell_type": "code",
   "execution_count": 3,
   "metadata": {},
   "outputs": [],
   "source": [
    "#Reading Webcam:\n",
    "cap = cv2.VideoCapture(0)\n",
    "cap.set(3, 640)\n",
    "cap.set(4, 480)\n",
    "\n",
    "flag = True\n",
    "while flag:\n",
    "    success, img = cap.read()\n",
    "    cv2.imshow(\"Video\", img)\n",
    "    k = cv2.waitKey(30) & 0xff #Press Escape Key to stop running the program.\n",
    "    if k==27:\n",
    "        break\n",
    "cap.release()\n",
    "cv2.destroyAllWindows()"
   ]
  },
  {
   "cell_type": "markdown",
   "metadata": {},
   "source": [
    "MODIFYING IMAGES:"
   ]
  },
  {
   "cell_type": "code",
   "execution_count": 4,
   "metadata": {},
   "outputs": [],
   "source": [
    "#Reading and Modifying Images:\n",
    "\n",
    "#1. GRAY:\n",
    "image = cv2.imread(\"C:\\Academic\\pic.jpg\")\n",
    "imgGray = cv2.cvtColor(image, cv2.COLOR_BGR2GRAY)\n",
    "cv2.imshow(\"Gray Image\", imgGray)\n",
    "# cv2.waitKey(0)\n",
    "# cv2.destroyAllWindows()\n",
    "\n",
    "#2: BLUR:\n",
    "imgBlur = cv2.GaussianBlur(image, (7,7), 0) #the (7,7) is the kernel size; It has to be odd numbers; #SigmaX = 0; \n",
    "cv2.imshow(\"Blur Image\", imgBlur)\n",
    "# cv2.waitKey(0)\n",
    "# cv2.destroyAllWindows()\n",
    "\n",
    "#3: Find Egdes:\n",
    "imgCanny = cv2.Canny(image, 100, 100)\n",
    "cv2.imshow(\"Canny Image\", imgCanny)\n",
    "cv2.waitKey(0)\n",
    "cv2.destroyAllWindows()"
   ]
  },
  {
   "cell_type": "markdown",
   "metadata": {},
   "source": [
    "The above function creates big windows, hence we have to resize the windows"
   ]
  },
  {
   "cell_type": "code",
   "execution_count": 5,
   "metadata": {},
   "outputs": [],
   "source": [
    "#Resizing the output window:\n",
    "\n",
    "window_name = \"blah\";\n",
    "cv2.namedWindow(window_name, cv2.WINDOW_NORMAL)\n",
    "cv2.resizeWindow(window_name, 480, 480)\n",
    "image = cv2.imread(\"C:\\Academic\\pic.jpg\")\n",
    "cv2.imshow(window_name, image)\n",
    "cv2.waitKey(0)\n",
    "cv2.destroyAllWindows()"
   ]
  },
  {
   "cell_type": "markdown",
   "metadata": {},
   "source": [
    "CONTOUR DETECTION"
   ]
  },
  {
   "cell_type": "code",
   "execution_count": 6,
   "metadata": {},
   "outputs": [],
   "source": [
    "#Contour Detection using Canny:\n",
    "\n",
    "window_name1 = \"1\"\n",
    "cv2.namedWindow(window_name1, cv2.WINDOW_NORMAL)\n",
    "cv2.resizeWindow(window_name1, 480, 480)\n",
    "imgCanny1 = cv2.Canny(image, 100, 100)\n",
    "cv2.imshow(window_name1, imgCanny1)\n",
    "# cv2.waitKey(0)\n",
    "# cv2.destroyAllWindows()\n",
    "\n",
    "window_name2 = \"2\"\n",
    "cv2.namedWindow(window_name2, cv2.WINDOW_NORMAL)\n",
    "cv2.resizeWindow(window_name2, 480, 480)\n",
    "imgCanny2 = cv2.Canny(image, 200, 200) #Difference between two windows\n",
    "cv2.imshow(window_name2, imgCanny2)\n",
    "\n",
    "cv2.waitKey(0)\n",
    "cv2.destroyAllWindows()"
   ]
  },
  {
   "cell_type": "markdown",
   "metadata": {},
   "source": [
    "DILATION AND EROSION: Working with Images"
   ]
  },
  {
   "cell_type": "code",
   "execution_count": 7,
   "metadata": {},
   "outputs": [],
   "source": [
    "#Image Dilation & Erosion: (with Canny) [Dilation & Erosion are opposites of each other in meaning..]\n",
    "import numpy as np\n",
    "kernel = np.ones((5,5),np.uint8)\n",
    "imgDilation = cv2.dilate(imgCanny, kernel, iterations=1)  #You change thickness by changing the kernel\n",
    "imgEroded = cv2.erode(imgDilation, kernel, iterations=1)\n",
    "window_name1 = \"1\"\n",
    "cv2.namedWindow(window_name1, cv2.WINDOW_NORMAL)\n",
    "cv2.resizeWindow(window_name1, 480, 480)\n",
    "imgCanny1 = cv2.Canny(image, 100, 100)\n",
    "cv2.imshow(window_name1, imgCanny1)\n",
    "\n",
    "window_name2 = \"2\"\n",
    "cv2.namedWindow(window_name2, cv2.WINDOW_NORMAL)\n",
    "cv2.resizeWindow(window_name2, 480, 480)\n",
    "cv2.imshow(window_name2, imgDilation)\n",
    "\n",
    "window_name3 = \"3\"\n",
    "cv2.namedWindow(window_name3, cv2.WINDOW_NORMAL)\n",
    "cv2.resizeWindow(window_name3, 480, 480)\n",
    "cv2.imshow(window_name3, imgEroded)\n",
    "\n",
    "cv2.waitKey(0)\n",
    "cv2.destroyAllWindows()"
   ]
  },
  {
   "cell_type": "markdown",
   "metadata": {},
   "source": [
    "DRAW ON THE IMAGE!!"
   ]
  },
  {
   "cell_type": "code",
   "execution_count": 8,
   "metadata": {},
   "outputs": [],
   "source": [
    "#Shapes & Text on Images:\n",
    "\n",
    "#1. Black Image:\n",
    "imj = np.zeros((512,512,3), np.uint8)\n",
    "#imj[:] = 255,0,0  #  The symbol [:] means use the whole matrix\n",
    "#cv2.imshow(\"Image\", imj)\n",
    "\n",
    "#2. Lines:\n",
    "cv2.line(imj, (0,0), (300, 300), (0, 255, 0), 3) #imj = Image on which you draw line, (0,0) = start, (300,300) = end, 3 = thickness\n",
    "cv2.line(imj, (imj.shape[0], 0), (0, imj.shape[1]), (0, 0, 255), 3)\n",
    "\n",
    "\n",
    "#3. Rectangles:\n",
    "cv2.rectangle(imj, (0,0), (250,350), (255, 0, 0), 3)\n",
    "cv2.rectangle(imj, (0,0), (100, 200), (255, 0, 0), cv2.FILLED)\n",
    "\n",
    "#4. Circle:\n",
    "cv2.circle(imj, (250, 50), 30, (255, 255, 0), 5)\n",
    "\n",
    "#5. Text:\n",
    "cv2.putText(imj, \"OpenCV\", (300, 100), cv2.FONT_HERSHEY_COMPLEX, 1, (0, 150, 0), 1)\n",
    "\n",
    "cv2.imshow(\"Image\", imj)  #The imshow is called only after defining the line, otherwise your wil get an error..!\n",
    "cv2.waitKey(0)\n",
    "cv2.destroyAllWindows()"
   ]
  },
  {
   "cell_type": "raw",
   "metadata": {},
   "source": [
    "WARPING THE IMAGE (NOT REQUIRED FOR CURRENT PROJECT):"
   ]
  },
  {
   "cell_type": "code",
   "execution_count": 10,
   "metadata": {},
   "outputs": [],
   "source": [
    "#Warp Perspective: (Getting it's bird eye's view)\n",
    "import cv2\n",
    "import numpy as np\n",
    "\n",
    "image = cv2.imread(\"C:\\Academic\\kings.jpg\") \n",
    "cv2.imshow(\"King\", image)\n",
    "\n",
    "#Define 4 corner points of the card:\n",
    "width, height = 250, 350;\n",
    "pts1 = np.float32([[259,168],[403,112],[341,382],[488,326]]) \n",
    "pts2 = np.float32([[0,0],[width,0],[0,height],[width, height]])\n",
    "\n",
    "matrix = cv2.getPerspectiveTransform(pts1, pts2) \n",
    "imgOutput = cv2.warpPerspective(image, matrix, (width, height))\n",
    "cv2.imshow(\"Output\", imgOutput)\n",
    "\n",
    "cv2.waitKey(0)\n",
    "cv2.destroyAllWindows()"
   ]
  },
  {
   "cell_type": "markdown",
   "metadata": {},
   "source": [
    "STACKING IMAGES: For choosing colors (ease of use)"
   ]
  },
  {
   "cell_type": "code",
   "execution_count": 15,
   "metadata": {},
   "outputs": [],
   "source": [
    "#JOINING IMAGES:\n",
    "img = cv2.imread(\"C:\\Academic\\pic.jpg\")\n",
    "img = cv2.resize(img, (400, 300))\n",
    "\n",
    "# imgHor = np.hstack((img, img)) #Since these are matrices, they have to be of same type (RGB, RGB) or (Grayscale,Grayscale)\n",
    "# imgVer = np.vstack((img, img))\n",
    "# imgthree = np.hstack((imgVer, img))\n",
    "\n",
    "# cv2.imshow(\"Horizontal\", imgHor)\n",
    "# cv2.imshow(\"Vertical\", imgVer)\n",
    "# cv2.imshow(\"Three\", imgthree) \n",
    "\n",
    "#THIS IS JUST THE FUNCTION, SINCE WE HAVE ALREADY ASCERTAINED IMAGES TO STACK:\n",
    "def stackImages(scale,imgArray):\n",
    "    rows = len(imgArray)\n",
    "    cols = len(imgArray[0])\n",
    "    rowsAvailable = isinstance(imgArray[0], list)\n",
    "    width = imgArray[0][0].shape[1]\n",
    "    height = imgArray[0][0].shape[0]\n",
    "    if rowsAvailable:\n",
    "        for x in range ( 0, rows):\n",
    "            for y in range(0, cols):\n",
    "                if imgArray[x][y].shape[:2] == imgArray[0][0].shape [:2]:\n",
    "                    imgArray[x][y] = cv2.resize(imgArray[x][y], (0, 0), None, scale, scale)\n",
    "                else:\n",
    "                    imgArray[x][y] = cv2.resize(imgArray[x][y], (imgArray[0][0].shape[1], imgArray[0][0].shape[0]), None, scale, scale)\n",
    "                if len(imgArray[x][y].shape) == 2: imgArray[x][y]= cv2.cvtColor( imgArray[x][y], cv2.COLOR_GRAY2BGR)\n",
    "        imageBlank = np.zeros((height, width, 3), np.uint8)\n",
    "        hor = [imageBlank]*rows\n",
    "        hor_con = [imageBlank]*rows\n",
    "        for x in range(0, rows):\n",
    "            hor[x] = np.hstack(imgArray[x])\n",
    "        ver = np.vstack(hor)\n",
    "    else:\n",
    "        for x in range(0, rows):\n",
    "            if imgArray[x].shape[:2] == imgArray[0].shape[:2]:\n",
    "                imgArray[x] = cv2.resize(imgArray[x], (0, 0), None, scale, scale)\n",
    "            else:\n",
    "                imgArray[x] = cv2.resize(imgArray[x], (imgArray[0].shape[1], imgArray[0].shape[0]), None,scale, scale)\n",
    "            if len(imgArray[x].shape) == 2: imgArray[x] = cv2.cvtColor(imgArray[x], cv2.COLOR_GRAY2BGR)\n",
    "        hor= np.hstack(imgArray)\n",
    "        ver = hor\n",
    "    return ver\n",
    "\n",
    "imgStack = stackImages(1, ([img, imgGray, img], [imgGray, img, imgGray])) # NOTE: Number of images in each row should be same.!\n",
    "cv2.imshow(\"Image Stack\", imgStack)\n",
    "\n",
    "\n",
    "\n",
    "\n",
    "\n",
    "cv2.waitKey(0)\n",
    "cv2.destroyAllWindows()"
   ]
  },
  {
   "cell_type": "code",
   "execution_count": null,
   "metadata": {},
   "outputs": [],
   "source": []
  }
 ],
 "metadata": {
  "kernelspec": {
   "display_name": "Python 3",
   "language": "python",
   "name": "python3"
  },
  "language_info": {
   "codemirror_mode": {
    "name": "ipython",
    "version": 3
   },
   "file_extension": ".py",
   "mimetype": "text/x-python",
   "name": "python",
   "nbconvert_exporter": "python",
   "pygments_lexer": "ipython3",
   "version": "3.7.1"
  }
 },
 "nbformat": 4,
 "nbformat_minor": 2
}
